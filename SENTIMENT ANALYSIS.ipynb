{
 "cells": [
  {
   "cell_type": "markdown",
   "metadata": {},
   "source": [
    "# MOVIE SENTIMENT ANALYSIS"
   ]
  },
  {
   "cell_type": "markdown",
   "metadata": {},
   "source": [
    "In this project we are going to do a twitter sentiment analysis on a new bollywood movie Gully Boy.<br>\n",
    "The goal of the project is to view the sentiments of audience for the movie on its release date.<br>\n",
    "Through the analysis we can come to conclusion whether the movie is worth a watch or no. \n"
   ]
  },
  {
   "cell_type": "markdown",
   "metadata": {},
   "source": [
    "importing all the required libraries"
   ]
  },
  {
   "cell_type": "code",
   "execution_count": 9,
   "metadata": {},
   "outputs": [],
   "source": [
    "# General:\n",
    "import tweepy           # To consume Twitter's API\n",
    "import pandas as pd     # To handle data\n",
    "import numpy as np      # For number computing\n",
    "\n",
    "# For plotting and visualization:\n",
    "from IPython.display import display\n",
    "import matplotlib.pyplot as plt\n",
    "import seaborn as sns\n",
    "%matplotlib inline"
   ]
  },
  {
   "cell_type": "code",
   "execution_count": 10,
   "metadata": {},
   "outputs": [],
   "source": [
    "ck= 'tZLjnEW3QbBYODXgQGUe0w28i'\n",
    "cs= 'kZ4UpJWs5y98fmWwO45PhnYkY6LjRcG8p5MYn3Uham3UCvDbMb'\n",
    "at= '86694879-YIxf3atu8syNm3mbE2PQ8uUdkTzBrC8xHcKAFDDED'\n",
    "ats= '6sagcyQj1TGXGMX8xrl6gBfg5MJ4yk72pH8vQoDnBkPQi'"
   ]
  },
  {
   "cell_type": "code",
   "execution_count": 11,
   "metadata": {},
   "outputs": [],
   "source": [
    " #API's setup:\n",
    "def twitter_setup():\n",
    "    #\"\"\"\n",
    "    #Utility function to setup the Twitter's API\n",
    "    #with our access keys provided.\n",
    "    #\"\"\"\n",
    "    # Authentication and access using keys:\n",
    "    auth = tweepy.OAuthHandler(ck, cs)\n",
    "    auth.set_access_token(at, ats)\n",
    "\n",
    "\n",
    "    # Return API with authentication:\n",
    "\n",
    "    api = tweepy.API(auth,wait_on_rate_limit = True)\n",
    "    return api"
   ]
  },
  {
   "cell_type": "code",
   "execution_count": 12,
   "metadata": {},
   "outputs": [
    {
     "name": "stdout",
     "output_type": "stream",
     "text": [
      "Number of tweets extracted: 200.\n",
      "\n",
      "Only Muqaabla Karega? No attack? Why? You said that Manmohan Singh is weak PM. But you have 56” chest, So you will… https://t.co/rXyZmWFJX1\n",
      "\n",
      "My review of #GullyBoy! https://t.co/O9PldefHWg\n",
      "\n",
      "RT @KRKBoxOffice: Day1 business of Film #GullyBoy at multiplexes!\n",
      "#PVR- ₹5.10Cr! Which is 28.33% of All India business!\n",
      "#Inox- ₹3.80Cr! Whi…\n",
      "\n",
      "Now Anupama Chopra also wants to become KRK, So she did review of #GullyBoy in Hindi. And believe me, only 5 thousa… https://t.co/GYmBk7nnAq\n",
      "\n",
      "अपनी फतेह पर अगर तुझे गरूर आने लगे, तो चुपके से मिट्टी से पूछ लेना, कि आजकल सिकन्दर कहाँ है!! Good morning!!\n",
      "\n"
     ]
    }
   ],
   "source": [
    "# We create an extractor object:\n",
    "extractor = twitter_setup()\n",
    "\n",
    "# We create a tweet list as follows:\n",
    "tweets = extractor.user_timeline(screen_name=\"kamaalrkhan\", count=200)\n",
    "print(\"Number of tweets extracted: {}.\\n\".format(len(tweets)))\n",
    "\n",
    "# We print the most recent 5 tweets:\n",
    "#(\"5 recent tweets:\\n\")\n",
    "for tweet in tweets[:5]:\n",
    "    print(tweet.text)\n",
    "    print()"
   ]
  },
  {
   "cell_type": "code",
   "execution_count": 13,
   "metadata": {},
   "outputs": [
    {
     "data": {
      "text/html": [
       "<div>\n",
       "<style scoped>\n",
       "    .dataframe tbody tr th:only-of-type {\n",
       "        vertical-align: middle;\n",
       "    }\n",
       "\n",
       "    .dataframe tbody tr th {\n",
       "        vertical-align: top;\n",
       "    }\n",
       "\n",
       "    .dataframe thead th {\n",
       "        text-align: right;\n",
       "    }\n",
       "</style>\n",
       "<table border=\"1\" class=\"dataframe\">\n",
       "  <thead>\n",
       "    <tr style=\"text-align: right;\">\n",
       "      <th></th>\n",
       "      <th>Tweets</th>\n",
       "    </tr>\n",
       "  </thead>\n",
       "  <tbody>\n",
       "    <tr>\n",
       "      <th>0</th>\n",
       "      <td>Only Muqaabla Karega? No attack? Why? You said...</td>\n",
       "    </tr>\n",
       "    <tr>\n",
       "      <th>1</th>\n",
       "      <td>My review of #GullyBoy! https://t.co/O9PldefHWg</td>\n",
       "    </tr>\n",
       "    <tr>\n",
       "      <th>2</th>\n",
       "      <td>RT @KRKBoxOffice: Day1 business of Film #Gully...</td>\n",
       "    </tr>\n",
       "    <tr>\n",
       "      <th>3</th>\n",
       "      <td>Now Anupama Chopra also wants to become KRK, S...</td>\n",
       "    </tr>\n",
       "    <tr>\n",
       "      <th>4</th>\n",
       "      <td>अपनी फतेह पर अगर तुझे गरूर आने लगे, तो चुपके स...</td>\n",
       "    </tr>\n",
       "    <tr>\n",
       "      <th>5</th>\n",
       "      <td>RT @KRKBoxOffice: Ranbir Kapoor-Sanjay Dutt's ...</td>\n",
       "    </tr>\n",
       "    <tr>\n",
       "      <th>6</th>\n",
       "      <td>RT @BollywoodKiNews: Salman Khan- Katrina Kaif...</td>\n",
       "    </tr>\n",
       "    <tr>\n",
       "      <th>7</th>\n",
       "      <td>RT @SushantBSinha: #Pulwama में #CRPF के जवानो...</td>\n",
       "    </tr>\n",
       "    <tr>\n",
       "      <th>8</th>\n",
       "      <td>Deeply saddened and angered for the terrorist ...</td>\n",
       "    </tr>\n",
       "    <tr>\n",
       "      <th>9</th>\n",
       "      <td>Gully Boy - Public Review | KRK Box Office htt...</td>\n",
       "    </tr>\n",
       "  </tbody>\n",
       "</table>\n",
       "</div>"
      ],
      "text/plain": [
       "                                              Tweets\n",
       "0  Only Muqaabla Karega? No attack? Why? You said...\n",
       "1    My review of #GullyBoy! https://t.co/O9PldefHWg\n",
       "2  RT @KRKBoxOffice: Day1 business of Film #Gully...\n",
       "3  Now Anupama Chopra also wants to become KRK, S...\n",
       "4  अपनी फतेह पर अगर तुझे गरूर आने लगे, तो चुपके स...\n",
       "5  RT @KRKBoxOffice: Ranbir Kapoor-Sanjay Dutt's ...\n",
       "6  RT @BollywoodKiNews: Salman Khan- Katrina Kaif...\n",
       "7  RT @SushantBSinha: #Pulwama में #CRPF के जवानो...\n",
       "8  Deeply saddened and angered for the terrorist ...\n",
       "9  Gully Boy - Public Review | KRK Box Office htt..."
      ]
     },
     "metadata": {},
     "output_type": "display_data"
    }
   ],
   "source": [
    "# We create a pandas dataframe as follows:\n",
    "data = pd.DataFrame(data=[tweet.text for tweet in tweets], columns=['Tweets'])\n",
    "\n",
    "# We display the first 10 elements of the dataframe:\n",
    "display(data.head(10))"
   ]
  },
  {
   "cell_type": "code",
   "execution_count": 42,
   "metadata": {},
   "outputs": [
    {
     "name": "stdout",
     "output_type": "stream",
     "text": [
      "['__class__', '__delattr__', '__dict__', '__dir__', '__doc__', '__eq__', '__format__', '__ge__', '__getattribute__', '__getstate__', '__gt__', '__hash__', '__init__', '__init_subclass__', '__le__', '__lt__', '__module__', '__ne__', '__new__', '__reduce__', '__reduce_ex__', '__repr__', '__setattr__', '__sizeof__', '__str__', '__subclasshook__', '__weakref__', '_api', '_json', 'author', 'contributors', 'coordinates', 'created_at', 'destroy', 'entities', 'favorite', 'favorite_count', 'favorited', 'geo', 'id', 'id_str', 'in_reply_to_screen_name', 'in_reply_to_status_id', 'in_reply_to_status_id_str', 'in_reply_to_user_id', 'in_reply_to_user_id_str', 'is_quote_status', 'lang', 'parse', 'parse_list', 'place', 'possibly_sensitive', 'retweet', 'retweet_count', 'retweeted', 'retweets', 'source', 'source_url', 'text', 'truncated', 'user']\n"
     ]
    }
   ],
   "source": [
    "# Internal methods of a single tweet object:\n",
    "print(dir(tweets[0]))"
   ]
  },
  {
   "cell_type": "code",
   "execution_count": 43,
   "metadata": {},
   "outputs": [
    {
     "name": "stdout",
     "output_type": "stream",
     "text": [
      "1096272885046525952\n",
      "2019-02-15 04:59:58\n",
      "Twitter for iPhone\n",
      "64\n",
      "6\n",
      "None\n",
      "None\n",
      "{'hashtags': [{'text': 'GullyBoy', 'indices': [13, 22]}], 'symbols': [], 'user_mentions': [], 'urls': [{'url': 'https://t.co/O9PldefHWg', 'expanded_url': 'https://www.youtube.com/watch?v=lALZDIiyPX4', 'display_url': 'youtube.com/watch?v=lALZDI…', 'indices': [24, 47]}]}\n"
     ]
    }
   ],
   "source": [
    "# We print info from the first tweet:\n",
    "print(tweets[0].id)\n",
    "print(tweets[0].created_at)\n",
    "print(tweets[0].source)\n",
    "print(tweets[0].favorite_count)\n",
    "print(tweets[0].retweet_count)\n",
    "print(tweets[0].geo)\n",
    "print(tweets[0].coordinates)\n",
    "print(tweets[0].entities)"
   ]
  },
  {
   "cell_type": "code",
   "execution_count": 44,
   "metadata": {},
   "outputs": [],
   "source": [
    "# We add relevant data:\n",
    "data['len']  = np.array([len(tweet.text) for tweet in tweets])\n",
    "data['ID']   = np.array([tweet.id for tweet in tweets])\n",
    "data['Date'] = np.array([tweet.created_at for tweet in tweets])\n",
    "data['Source'] = np.array([tweet.source for tweet in tweets])\n",
    "data['Likes']  = np.array([tweet.favorite_count for tweet in tweets])\n",
    "data['RTs']    = np.array([tweet.retweet_count for tweet in tweets])"
   ]
  },
  {
   "cell_type": "code",
   "execution_count": 45,
   "metadata": {},
   "outputs": [
    {
     "data": {
      "text/html": [
       "<div>\n",
       "<style scoped>\n",
       "    .dataframe tbody tr th:only-of-type {\n",
       "        vertical-align: middle;\n",
       "    }\n",
       "\n",
       "    .dataframe tbody tr th {\n",
       "        vertical-align: top;\n",
       "    }\n",
       "\n",
       "    .dataframe thead th {\n",
       "        text-align: right;\n",
       "    }\n",
       "</style>\n",
       "<table border=\"1\" class=\"dataframe\">\n",
       "  <thead>\n",
       "    <tr style=\"text-align: right;\">\n",
       "      <th></th>\n",
       "      <th>Tweets</th>\n",
       "      <th>len</th>\n",
       "      <th>ID</th>\n",
       "      <th>Date</th>\n",
       "      <th>Source</th>\n",
       "      <th>Likes</th>\n",
       "      <th>RTs</th>\n",
       "    </tr>\n",
       "  </thead>\n",
       "  <tbody>\n",
       "    <tr>\n",
       "      <th>0</th>\n",
       "      <td>My review of #GullyBoy! https://t.co/O9PldefHWg</td>\n",
       "      <td>47</td>\n",
       "      <td>1096272885046525952</td>\n",
       "      <td>2019-02-15 04:59:58</td>\n",
       "      <td>Twitter for iPhone</td>\n",
       "      <td>64</td>\n",
       "      <td>6</td>\n",
       "    </tr>\n",
       "    <tr>\n",
       "      <th>1</th>\n",
       "      <td>RT @KRKBoxOffice: Day1 business of Film #Gully...</td>\n",
       "      <td>140</td>\n",
       "      <td>1096269689225969664</td>\n",
       "      <td>2019-02-15 04:47:16</td>\n",
       "      <td>Twitter for iPhone</td>\n",
       "      <td>0</td>\n",
       "      <td>10</td>\n",
       "    </tr>\n",
       "    <tr>\n",
       "      <th>2</th>\n",
       "      <td>Now Anupama Chopra also wants to become KRK, S...</td>\n",
       "      <td>140</td>\n",
       "      <td>1096231550876672001</td>\n",
       "      <td>2019-02-15 02:15:43</td>\n",
       "      <td>Twitter for iPhone</td>\n",
       "      <td>611</td>\n",
       "      <td>34</td>\n",
       "    </tr>\n",
       "    <tr>\n",
       "      <th>3</th>\n",
       "      <td>अपनी फतेह पर अगर तुझे गरूर आने लगे, तो चुपके स...</td>\n",
       "      <td>108</td>\n",
       "      <td>1096221444177100801</td>\n",
       "      <td>2019-02-15 01:35:33</td>\n",
       "      <td>Twitter for iPhone</td>\n",
       "      <td>298</td>\n",
       "      <td>36</td>\n",
       "    </tr>\n",
       "    <tr>\n",
       "      <th>4</th>\n",
       "      <td>RT @KRKBoxOffice: Ranbir Kapoor-Sanjay Dutt's ...</td>\n",
       "      <td>91</td>\n",
       "      <td>1096093848604950528</td>\n",
       "      <td>2019-02-14 17:08:32</td>\n",
       "      <td>Twitter for iPhone</td>\n",
       "      <td>0</td>\n",
       "      <td>6</td>\n",
       "    </tr>\n",
       "    <tr>\n",
       "      <th>5</th>\n",
       "      <td>RT @BollywoodKiNews: Salman Khan- Katrina Kaif...</td>\n",
       "      <td>134</td>\n",
       "      <td>1096093667549478913</td>\n",
       "      <td>2019-02-14 17:07:49</td>\n",
       "      <td>Twitter for iPhone</td>\n",
       "      <td>0</td>\n",
       "      <td>8</td>\n",
       "    </tr>\n",
       "    <tr>\n",
       "      <th>6</th>\n",
       "      <td>RT @SushantBSinha: #Pulwama में #CRPF के जवानो...</td>\n",
       "      <td>139</td>\n",
       "      <td>1096058984828678144</td>\n",
       "      <td>2019-02-14 14:50:00</td>\n",
       "      <td>Twitter for iPhone</td>\n",
       "      <td>0</td>\n",
       "      <td>3004</td>\n",
       "    </tr>\n",
       "    <tr>\n",
       "      <th>7</th>\n",
       "      <td>Deeply saddened and angered for the terrorist ...</td>\n",
       "      <td>140</td>\n",
       "      <td>1096031788563079169</td>\n",
       "      <td>2019-02-14 13:01:56</td>\n",
       "      <td>Twitter for iPhone</td>\n",
       "      <td>1026</td>\n",
       "      <td>112</td>\n",
       "    </tr>\n",
       "    <tr>\n",
       "      <th>8</th>\n",
       "      <td>Gully Boy - Public Review | KRK Box Office htt...</td>\n",
       "      <td>79</td>\n",
       "      <td>1096014250244485121</td>\n",
       "      <td>2019-02-14 11:52:14</td>\n",
       "      <td>Twitter for iPhone</td>\n",
       "      <td>93</td>\n",
       "      <td>7</td>\n",
       "    </tr>\n",
       "    <tr>\n",
       "      <th>9</th>\n",
       "      <td>My review of film #GullyBoy! Watch and RT for ...</td>\n",
       "      <td>90</td>\n",
       "      <td>1096009078093037569</td>\n",
       "      <td>2019-02-14 11:31:41</td>\n",
       "      <td>Twitter for iPhone</td>\n",
       "      <td>104</td>\n",
       "      <td>12</td>\n",
       "    </tr>\n",
       "  </tbody>\n",
       "</table>\n",
       "</div>"
      ],
      "text/plain": [
       "                                              Tweets  len  \\\n",
       "0    My review of #GullyBoy! https://t.co/O9PldefHWg   47   \n",
       "1  RT @KRKBoxOffice: Day1 business of Film #Gully...  140   \n",
       "2  Now Anupama Chopra also wants to become KRK, S...  140   \n",
       "3  अपनी फतेह पर अगर तुझे गरूर आने लगे, तो चुपके स...  108   \n",
       "4  RT @KRKBoxOffice: Ranbir Kapoor-Sanjay Dutt's ...   91   \n",
       "5  RT @BollywoodKiNews: Salman Khan- Katrina Kaif...  134   \n",
       "6  RT @SushantBSinha: #Pulwama में #CRPF के जवानो...  139   \n",
       "7  Deeply saddened and angered for the terrorist ...  140   \n",
       "8  Gully Boy - Public Review | KRK Box Office htt...   79   \n",
       "9  My review of film #GullyBoy! Watch and RT for ...   90   \n",
       "\n",
       "                    ID                Date              Source  Likes   RTs  \n",
       "0  1096272885046525952 2019-02-15 04:59:58  Twitter for iPhone     64     6  \n",
       "1  1096269689225969664 2019-02-15 04:47:16  Twitter for iPhone      0    10  \n",
       "2  1096231550876672001 2019-02-15 02:15:43  Twitter for iPhone    611    34  \n",
       "3  1096221444177100801 2019-02-15 01:35:33  Twitter for iPhone    298    36  \n",
       "4  1096093848604950528 2019-02-14 17:08:32  Twitter for iPhone      0     6  \n",
       "5  1096093667549478913 2019-02-14 17:07:49  Twitter for iPhone      0     8  \n",
       "6  1096058984828678144 2019-02-14 14:50:00  Twitter for iPhone      0  3004  \n",
       "7  1096031788563079169 2019-02-14 13:01:56  Twitter for iPhone   1026   112  \n",
       "8  1096014250244485121 2019-02-14 11:52:14  Twitter for iPhone     93     7  \n",
       "9  1096009078093037569 2019-02-14 11:31:41  Twitter for iPhone    104    12  "
      ]
     },
     "metadata": {},
     "output_type": "display_data"
    }
   ],
   "source": [
    "# Display of first 10 elements from dataframe:\n",
    "display(data.head(10))"
   ]
  },
  {
   "cell_type": "code",
   "execution_count": 46,
   "metadata": {},
   "outputs": [
    {
     "name": "stdout",
     "output_type": "stream",
     "text": [
      "The lenght's average in tweets: 114.21\n"
     ]
    }
   ],
   "source": [
    "# We extract the mean of lenghts:\n",
    "mean = np.mean(data['len'])\n",
    "\n",
    "print(\"The lenght's average in tweets: {}\".format(mean))"
   ]
  },
  {
   "cell_type": "code",
   "execution_count": 47,
   "metadata": {},
   "outputs": [
    {
     "name": "stdout",
     "output_type": "stream",
     "text": [
      "The tweet with more likes is: \n",
      "Film #Manikarnika is 50 times better than #Bahubali So actually it should do ₹500Cr business in India. Now let’s se… https://t.co/z5LdJIsVnK\n",
      "Number of likes: 3145\n",
      "140 characters.\n",
      "\n",
      "The tweet with more retweets is: \n",
      "RT @SushantBSinha: #Pulwama में #CRPF के जवानों पर हुए आतंकी हमले में इस्तेमाल न तो कार पाकिस्तान से आई होगी और न ही इस्तेमाल हुआ करीब 200…\n",
      "Number of retweets: 3004\n",
      "139 characters.\n",
      "\n"
     ]
    }
   ],
   "source": [
    "# We extract the tweet with more FAVs and more RTs:\n",
    "\n",
    "fav_max = np.max(data['Likes'])\n",
    "rt_max  = np.max(data['RTs'])\n",
    "\n",
    "fav = data[data.Likes == fav_max].index[0]\n",
    "rt  = data[data.RTs == rt_max].index[0]\n",
    "\n",
    "# Max FAVs:\n",
    "print(\"The tweet with more likes is: \\n{}\".format(data['Tweets'][fav]))\n",
    "print(\"Number of likes: {}\".format(fav_max))\n",
    "print(\"{} characters.\\n\".format(data['len'][fav]))\n",
    "\n",
    "# Max RTs:\n",
    "print(\"The tweet with more retweets is: \\n{}\".format(data['Tweets'][rt]))\n",
    "print(\"Number of retweets: {}\".format(rt_max))\n",
    "print(\"{} characters.\\n\".format(data['len'][rt]))"
   ]
  },
  {
   "cell_type": "code",
   "execution_count": 48,
   "metadata": {},
   "outputs": [],
   "source": [
    "# We create time series for data:\n",
    "\n",
    "tlen = pd.Series(data=data['len'].values, index=data['Date'])\n",
    "tfav = pd.Series(data=data['Likes'].values, index=data['Date'])\n",
    "tret = pd.Series(data=data['RTs'].values, index=data['Date'])"
   ]
  },
  {
   "cell_type": "code",
   "execution_count": 49,
   "metadata": {},
   "outputs": [
    {
     "data": {
      "image/png": "[encoded data removed]",
      "text/plain": [
       "<matplotlib.figure.Figure at 0x1a1512d3c8>"
      ]
     },
     "metadata": {},
     "output_type": "display_data"
    }
   ],
   "source": [
    "# Lenghts along time:\n",
    "tlen.plot(figsize=(16,4), color='r');"
   ]
  },
  {
   "cell_type": "code",
   "execution_count": 50,
   "metadata": {},
   "outputs": [
    {
     "data": {
      "image/png": "[encoded data removed]",
      "text/plain": [
       "<matplotlib.figure.Figure at 0x1a15116550>"
      ]
     },
     "metadata": {},
     "output_type": "display_data"
    }
   ],
   "source": [
    "# Likes vs retweets visualization:\n",
    "tfav.plot(figsize=(16,4), label=\"Likes\", legend=True)\n",
    "tret.plot(figsize=(16,4), label=\"Retweets\", legend=True);"
   ]
  },
  {
   "cell_type": "code",
   "execution_count": 51,
   "metadata": {},
   "outputs": [
    {
     "name": "stdout",
     "output_type": "stream",
     "text": [
      "Creation of content sources:\n",
      "* Twitter for iPhone\n",
      "* TikTok-a video community\n"
     ]
    }
   ],
   "source": [
    "# We obtain all possible sources:\n",
    "sources = []\n",
    "for source in data['Source']:\n",
    "    if source not in sources:\n",
    "        sources.append(source)\n",
    "\n",
    "# We print sources list:\n",
    "print(\"Creation of content sources:\")\n",
    "for source in sources:\n",
    "    print(\"* {}\".format(source))"
   ]
  },
  {
   "cell_type": "code",
   "execution_count": 52,
   "metadata": {},
   "outputs": [
    {
     "data": {
      "image/png": "[encoded data removed]",
      "text/plain": [
       "<matplotlib.figure.Figure at 0x1a150f3ef0>"
      ]
     },
     "metadata": {},
     "output_type": "display_data"
    }
   ],
   "source": [
    "# We create a numpy vector mapped to labels:\n",
    "percent = np.zeros(len(sources))\n",
    "\n",
    "for source in data['Source']:\n",
    "    for index in range(len(sources)):\n",
    "        if source == sources[index]:\n",
    "            percent[index] += 1\n",
    "            pass\n",
    "\n",
    "percent /= 100\n",
    "\n",
    "# Pie chart:\n",
    "pie_chart = pd.Series(percent, index=sources, name='Sources')\n",
    "pie_chart.plot.pie(fontsize=11, autopct='%.2f', figsize=(6, 6));"
   ]
  },
  {
   "cell_type": "code",
   "execution_count": 53,
   "metadata": {},
   "outputs": [],
   "source": [
    "from textblob import TextBlob\n",
    "import re\n",
    "\n",
    "def clean_tweet(tweet):\n",
    "    '''\n",
    "    Utility function to clean the text in a tweet by removing \n",
    "    links and special characters using regex.\n",
    "    '''\n",
    "    return ' '.join(re.sub(\"(@[A-Za-z0-9]+)|([^0-9A-Za-z \\t])|(\\w+:\\/\\/\\S+)\", \" \", tweet).split())\n",
    "\n",
    "def analize_sentiment(tweet):\n",
    "    '''\n",
    "    Utility function to classify the polarity of a tweet\n",
    "    using textblob.\n",
    "    '''\n",
    "    analysis = TextBlob(clean_tweet(tweet))\n",
    "    if analysis.sentiment.polarity > 0:\n",
    "        return 1\n",
    "    elif analysis.sentiment.polarity == 0:\n",
    "        return 0\n",
    "    else:\n",
    "        return -1"
   ]
  },
  {
   "cell_type": "code",
   "execution_count": 54,
   "metadata": {},
   "outputs": [
    {
     "data": {
      "text/html": [
       "<div>\n",
       "<style scoped>\n",
       "    .dataframe tbody tr th:only-of-type {\n",
       "        vertical-align: middle;\n",
       "    }\n",
       "\n",
       "    .dataframe tbody tr th {\n",
       "        vertical-align: top;\n",
       "    }\n",
       "\n",
       "    .dataframe thead th {\n",
       "        text-align: right;\n",
       "    }\n",
       "</style>\n",
       "<table border=\"1\" class=\"dataframe\">\n",
       "  <thead>\n",
       "    <tr style=\"text-align: right;\">\n",
       "      <th></th>\n",
       "      <th>Tweets</th>\n",
       "      <th>len</th>\n",
       "      <th>ID</th>\n",
       "      <th>Date</th>\n",
       "      <th>Source</th>\n",
       "      <th>Likes</th>\n",
       "      <th>RTs</th>\n",
       "      <th>SA</th>\n",
       "    </tr>\n",
       "  </thead>\n",
       "  <tbody>\n",
       "    <tr>\n",
       "      <th>0</th>\n",
       "      <td>My review of #GullyBoy! https://t.co/O9PldefHWg</td>\n",
       "      <td>47</td>\n",
       "      <td>1096272885046525952</td>\n",
       "      <td>2019-02-15 04:59:58</td>\n",
       "      <td>Twitter for iPhone</td>\n",
       "      <td>64</td>\n",
       "      <td>6</td>\n",
       "      <td>0</td>\n",
       "    </tr>\n",
       "    <tr>\n",
       "      <th>1</th>\n",
       "      <td>RT @KRKBoxOffice: Day1 business of Film #Gully...</td>\n",
       "      <td>140</td>\n",
       "      <td>1096269689225969664</td>\n",
       "      <td>2019-02-15 04:47:16</td>\n",
       "      <td>Twitter for iPhone</td>\n",
       "      <td>0</td>\n",
       "      <td>10</td>\n",
       "      <td>0</td>\n",
       "    </tr>\n",
       "    <tr>\n",
       "      <th>2</th>\n",
       "      <td>Now Anupama Chopra also wants to become KRK, S...</td>\n",
       "      <td>140</td>\n",
       "      <td>1096231550876672001</td>\n",
       "      <td>2019-02-15 02:15:43</td>\n",
       "      <td>Twitter for iPhone</td>\n",
       "      <td>611</td>\n",
       "      <td>34</td>\n",
       "      <td>1</td>\n",
       "    </tr>\n",
       "    <tr>\n",
       "      <th>3</th>\n",
       "      <td>अपनी फतेह पर अगर तुझे गरूर आने लगे, तो चुपके स...</td>\n",
       "      <td>108</td>\n",
       "      <td>1096221444177100801</td>\n",
       "      <td>2019-02-15 01:35:33</td>\n",
       "      <td>Twitter for iPhone</td>\n",
       "      <td>298</td>\n",
       "      <td>36</td>\n",
       "      <td>1</td>\n",
       "    </tr>\n",
       "    <tr>\n",
       "      <th>4</th>\n",
       "      <td>RT @KRKBoxOffice: Ranbir Kapoor-Sanjay Dutt's ...</td>\n",
       "      <td>91</td>\n",
       "      <td>1096093848604950528</td>\n",
       "      <td>2019-02-14 17:08:32</td>\n",
       "      <td>Twitter for iPhone</td>\n",
       "      <td>0</td>\n",
       "      <td>6</td>\n",
       "      <td>0</td>\n",
       "    </tr>\n",
       "    <tr>\n",
       "      <th>5</th>\n",
       "      <td>RT @BollywoodKiNews: Salman Khan- Katrina Kaif...</td>\n",
       "      <td>134</td>\n",
       "      <td>1096093667549478913</td>\n",
       "      <td>2019-02-14 17:07:49</td>\n",
       "      <td>Twitter for iPhone</td>\n",
       "      <td>0</td>\n",
       "      <td>8</td>\n",
       "      <td>1</td>\n",
       "    </tr>\n",
       "    <tr>\n",
       "      <th>6</th>\n",
       "      <td>RT @SushantBSinha: #Pulwama में #CRPF के जवानो...</td>\n",
       "      <td>139</td>\n",
       "      <td>1096058984828678144</td>\n",
       "      <td>2019-02-14 14:50:00</td>\n",
       "      <td>Twitter for iPhone</td>\n",
       "      <td>0</td>\n",
       "      <td>3004</td>\n",
       "      <td>0</td>\n",
       "    </tr>\n",
       "    <tr>\n",
       "      <th>7</th>\n",
       "      <td>Deeply saddened and angered for the terrorist ...</td>\n",
       "      <td>140</td>\n",
       "      <td>1096031788563079169</td>\n",
       "      <td>2019-02-14 13:01:56</td>\n",
       "      <td>Twitter for iPhone</td>\n",
       "      <td>1026</td>\n",
       "      <td>112</td>\n",
       "      <td>-1</td>\n",
       "    </tr>\n",
       "    <tr>\n",
       "      <th>8</th>\n",
       "      <td>Gully Boy - Public Review | KRK Box Office htt...</td>\n",
       "      <td>79</td>\n",
       "      <td>1096014250244485121</td>\n",
       "      <td>2019-02-14 11:52:14</td>\n",
       "      <td>Twitter for iPhone</td>\n",
       "      <td>93</td>\n",
       "      <td>7</td>\n",
       "      <td>0</td>\n",
       "    </tr>\n",
       "    <tr>\n",
       "      <th>9</th>\n",
       "      <td>My review of film #GullyBoy! Watch and RT for ...</td>\n",
       "      <td>90</td>\n",
       "      <td>1096009078093037569</td>\n",
       "      <td>2019-02-14 11:31:41</td>\n",
       "      <td>Twitter for iPhone</td>\n",
       "      <td>104</td>\n",
       "      <td>12</td>\n",
       "      <td>0</td>\n",
       "    </tr>\n",
       "  </tbody>\n",
       "</table>\n",
       "</div>"
      ],
      "text/plain": [
       "                                              Tweets  len  \\\n",
       "0    My review of #GullyBoy! https://t.co/O9PldefHWg   47   \n",
       "1  RT @KRKBoxOffice: Day1 business of Film #Gully...  140   \n",
       "2  Now Anupama Chopra also wants to become KRK, S...  140   \n",
       "3  अपनी फतेह पर अगर तुझे गरूर आने लगे, तो चुपके स...  108   \n",
       "4  RT @KRKBoxOffice: Ranbir Kapoor-Sanjay Dutt's ...   91   \n",
       "5  RT @BollywoodKiNews: Salman Khan- Katrina Kaif...  134   \n",
       "6  RT @SushantBSinha: #Pulwama में #CRPF के जवानो...  139   \n",
       "7  Deeply saddened and angered for the terrorist ...  140   \n",
       "8  Gully Boy - Public Review | KRK Box Office htt...   79   \n",
       "9  My review of film #GullyBoy! Watch and RT for ...   90   \n",
       "\n",
       "                    ID                Date              Source  Likes   RTs  \\\n",
       "0  1096272885046525952 2019-02-15 04:59:58  Twitter for iPhone     64     6   \n",
       "1  1096269689225969664 2019-02-15 04:47:16  Twitter for iPhone      0    10   \n",
       "2  1096231550876672001 2019-02-15 02:15:43  Twitter for iPhone    611    34   \n",
       "3  1096221444177100801 2019-02-15 01:35:33  Twitter for iPhone    298    36   \n",
       "4  1096093848604950528 2019-02-14 17:08:32  Twitter for iPhone      0     6   \n",
       "5  1096093667549478913 2019-02-14 17:07:49  Twitter for iPhone      0     8   \n",
       "6  1096058984828678144 2019-02-14 14:50:00  Twitter for iPhone      0  3004   \n",
       "7  1096031788563079169 2019-02-14 13:01:56  Twitter for iPhone   1026   112   \n",
       "8  1096014250244485121 2019-02-14 11:52:14  Twitter for iPhone     93     7   \n",
       "9  1096009078093037569 2019-02-14 11:31:41  Twitter for iPhone    104    12   \n",
       "\n",
       "   SA  \n",
       "0   0  \n",
       "1   0  \n",
       "2   1  \n",
       "3   1  \n",
       "4   0  \n",
       "5   1  \n",
       "6   0  \n",
       "7  -1  \n",
       "8   0  \n",
       "9   0  "
      ]
     },
     "metadata": {},
     "output_type": "display_data"
    }
   ],
   "source": [
    "# We create a column with the result of the analysis:\n",
    "data['SA'] = np.array([ analize_sentiment(tweet) for tweet in data['Tweets'] ])\n",
    "\n",
    "# We display the updated dataframe with the new column:\n",
    "display(data.head(10))"
   ]
  },
  {
   "cell_type": "code",
   "execution_count": 55,
   "metadata": {},
   "outputs": [],
   "source": [
    "# We construct lists with classified tweets:\n",
    "\n",
    "pos_tweets = [ tweet for index, tweet in enumerate(data['Tweets']) if data['SA'][index] > 0]\n",
    "neu_tweets = [ tweet for index, tweet in enumerate(data['Tweets']) if data['SA'][index] == 0]\n",
    "neg_tweets = [ tweet for index, tweet in enumerate(data['Tweets']) if data['SA'][index] < 0]"
   ]
  },
  {
   "cell_type": "code",
   "execution_count": 56,
   "metadata": {
    "scrolled": true
   },
   "outputs": [
    {
     "name": "stdout",
     "output_type": "stream",
     "text": [
      "Percentage of positive tweets: 49.0%\n",
      "Percentage of neutral tweets: 39.0%\n",
      "Percentage de negative tweets: 12.0%\n"
     ]
    }
   ],
   "source": [
    "# We print percentages:\n",
    "\n",
    "print(\"Percentage of positive tweets: {}%\".format(len(pos_tweets)*100/len(data['Tweets'])))\n",
    "print(\"Percentage of neutral tweets: {}%\".format(len(neu_tweets)*100/len(data['Tweets'])))\n",
    "print(\"Percentage de negative tweets: {}%\".format(len(neg_tweets)*100/len(data['Tweets'])))"
   ]
  },
  {
   "cell_type": "markdown",
   "metadata": {},
   "source": [
    "Through the above analysis we can conclude that the audience sentiments are mostly positive and neutral but less neagtive.<br>\n",
    "So the movie may be worth a watch."
   ]
  },
  {
   "cell_type": "code",
   "execution_count": null,
   "metadata": {},
   "outputs": [],
   "source": []
  },
  {
   "cell_type": "code",
   "execution_count": null,
   "metadata": {},
   "outputs": [],
   "source": []
  }
 ],
 "metadata": {
  "kernelspec": {
   "display_name": "Python 3",
   "language": "python",
   "name": "python3"
  },
  "language_info": {
   "codemirror_mode": {
    "name": "ipython",
    "version": 3
   },
   "file_extension": ".py",
   "mimetype": "text/x-python",
   "name": "python",
   "nbconvert_exporter": "python",
   "pygments_lexer": "ipython3",
   "version": "3.6.3"
  }
 },
 "nbformat": 4,
 "nbformat_minor": 2
}
